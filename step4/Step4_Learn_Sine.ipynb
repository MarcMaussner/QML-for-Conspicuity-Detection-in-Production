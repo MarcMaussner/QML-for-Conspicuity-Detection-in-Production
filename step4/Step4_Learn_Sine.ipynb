{
 "cells": [
  {
   "cell_type": "markdown",
   "id": "4323a45d-4505-4958-9545-33629e3ce2e1",
   "metadata": {},
   "source": [
    "# Implementation of learning sine function\n",
    "Based upon: https://pennylane.ai/blog/2021/10/how-to-start-learning-quantum-machine-learning/"
   ]
  },
  {
   "cell_type": "code",
   "execution_count": 1,
   "id": "7a93713b-ad78-4ff4-be66-25248d951afc",
   "metadata": {},
   "outputs": [],
   "source": [
    "# imports\n",
    "import pennylane as qml\n",
    "from pennylane import numpy as np\n",
    "import matplotlib.pyplot as plt"
   ]
  },
  {
   "cell_type": "code",
   "execution_count": 2,
   "id": "db7327d9-b376-4de7-aa7c-491af40dc145",
   "metadata": {},
   "outputs": [],
   "source": [
    "# Quantum node with only one qubit needed\n",
    "dev = qml.device(\"default.qubit\", wires=1)"
   ]
  },
  {
   "cell_type": "markdown",
   "id": "87f02308-bebc-46f3-b92b-1de9db32caa5",
   "metadata": {},
   "source": [
    "## Construct variational circuit (state_preparation + ansatz)¶"
   ]
  },
  {
   "cell_type": "code",
   "execution_count": 3,
   "id": "3e4259a8-60bf-4ef5-8d32-b5156c3dab84",
   "metadata": {},
   "outputs": [],
   "source": [
    "# We use the datapoint as angle for state-preparation\n",
    "# We have 3 parameters for Rotation -> all states on bloch-sphere can be reached!\n",
    "\n",
    "@qml.qnode(dev)\n",
    "def quantum_circuit(datapoint, params):\n",
    "    # Encode the input data as an RX rotation\n",
    "    qml.RX(datapoint, wires=0)\n",
    "    # Create a rotation based on the angles in \"params\"\n",
    "    qml.Rot(params[0], params[1], params[2], wires=0)\n",
    "    # We return the expected value of a measurement along the Z axis\n",
    "    return qml.expval(qml.PauliZ(wires=0))"
   ]
  },
  {
   "cell_type": "markdown",
   "id": "40998452-f29c-4e4e-ae29-cbe255884887",
   "metadata": {},
   "source": [
    "## Define loss and accuracy functions needed for optimizing parameters¶"
   ]
  },
  {
   "cell_type": "code",
   "execution_count": 4,
   "id": "2953dc3c-db0b-43ef-a36c-e7fd41211e96",
   "metadata": {},
   "outputs": [],
   "source": [
    "# calculate accuracy with L1-norm\n",
    "def accuracy(labels, predictions):\n",
    "    acc = sum(abs(l - p) < 1e-2 for l, p in zip(labels, predictions))\n",
    "    acc = acc / len(labels)\n",
    "    return acc"
   ]
  },
  {
   "cell_type": "code",
   "execution_count": 5,
   "id": "07f3116f-77e6-4261-9efc-f83676a7d657",
   "metadata": {},
   "outputs": [],
   "source": [
    "# define function calculating the square mean = ((labels-predictions)**2)/N\n",
    "def square_loss(labels, predictions):\n",
    "    # We use a call to qml.math.stack to allow subtracting the arrays directly\n",
    "    return np.mean((labels - qml.math.stack(predictions)) ** 2)"
   ]
  },
  {
   "cell_type": "code",
   "execution_count": 6,
   "id": "b10f7d2c-75b1-4443-9098-b0f14e667138",
   "metadata": {},
   "outputs": [],
   "source": [
    "# first approach: calculate loss by L2-norm\n",
    "def loss_func(predictions):\n",
    "    # This is a postprocessing step. Here we use a least squares metric\n",
    "    # based on the predictions of the quantum circuit and the outputs\n",
    "    # of the training data points.\n",
    "\n",
    "    total_losses = 0\n",
    "    for i in range(len(Y)):\n",
    "        output = Y[i]\n",
    "        prediction = predictions[i]\n",
    "        loss = (prediction - output)**2\n",
    "        total_losses += loss\n",
    "    return total_losses"
   ]
  },
  {
   "cell_type": "code",
   "execution_count": 7,
   "id": "0f1f74be-74ac-4536-b273-e13e6049e98b",
   "metadata": {},
   "outputs": [],
   "source": [
    "#Define your cost function, including any classical pre/postprocessing\n",
    "def cost_fn(params):\n",
    "    # We get the predictions of the quantum circuit for a specific\n",
    "    # set of parameters along the entire input dataset\n",
    "    predictions = [quantum_circuit(x, params)  for x in X]\n",
    "    # We calculate the cost including any classical postprocessing\n",
    "    #cost = loss_func(predictions)\n",
    "\n",
    "    # We use the mean(L2) for optimization\n",
    "    cost = square_loss(Y, predictions)\n",
    "    return cost"
   ]
  },
  {
   "cell_type": "markdown",
   "id": "da9bcea6-569c-4da2-8a64-ca9b386b8daf",
   "metadata": {},
   "source": [
    "## Load data and initialize parameters and bias"
   ]
  },
  {
   "cell_type": "code",
   "execution_count": 8,
   "id": "f384f181-9e23-43c1-a8d9-5398e50487bb",
   "metadata": {},
   "outputs": [],
   "source": [
    "# define number of date points taken for training\n",
    "num_datapoints = 20"
   ]
  },
  {
   "cell_type": "code",
   "execution_count": 9,
   "id": "a9716a30-544c-4e1a-85af-dfae5421c99a",
   "metadata": {},
   "outputs": [],
   "source": [
    "# We create the training Data\n",
    "X = np.linspace(0, 2*np.pi, num_datapoints) # 20 input datapoints from 0 to 2pi\n",
    "# We tell the optimizer that this is an input datapoint,\n",
    "# and not a parameter to optimize over.\n",
    "X.requires_grad = False\n",
    "Y = np.sin(X) # The outputs for the input datapoints\n",
    "\n",
    "# We create the test Data\n",
    "# 20 test datapoints, shifted from the training data by 0.2\n",
    "# Since we're not optimizing over the test data we\n",
    "# don't need to specify requires_grad = False\n",
    "X_test = np.linspace(0.2, 2*np.pi+0.2, num_datapoints)\n",
    "Y_test = np.sin(X_test) # The outputs for the test datapoints"
   ]
  },
  {
   "cell_type": "code",
   "execution_count": 10,
   "id": "b502383f-e7ba-4a6b-8e41-ae3a1be1d521",
   "metadata": {},
   "outputs": [],
   "source": [
    "params = np.array([0.1,0.1,0.1],requires_grad=True)"
   ]
  },
  {
   "cell_type": "markdown",
   "id": "f10bdb76-439b-4772-a574-b51d6650dd94",
   "metadata": {},
   "source": [
    "## Instantiate Optimizer and start training"
   ]
  },
  {
   "cell_type": "code",
   "execution_count": 11,
   "id": "ddfb8003-d3bc-4219-bde1-c3e940ff3f96",
   "metadata": {},
   "outputs": [],
   "source": [
    "opt = qml.GradientDescentOptimizer(stepsize=0.3)"
   ]
  },
  {
   "cell_type": "code",
   "execution_count": 12,
   "id": "df36263c-cdf2-4b0c-af10-79924f9bae21",
   "metadata": {},
   "outputs": [
    {
     "name": "stdout",
     "output_type": "stream",
     "text": [
      "Step = 0 Cost = 1.0014563288691014\n",
      "Step = 10 Cost = 0.12341662475058535\n",
      "Step = 20 Cost = 0.006628055989866391\n",
      "Step = 30 Cost = 0.0023815506640177306\n",
      "Step = 40 Cost = 0.0012124088427824\n",
      "Step = 50 Cost = 0.000732059801102199\n",
      "Step = 60 Cost = 0.0004893273515655146\n",
      "Step = 70 Cost = 0.00034992987362083124\n",
      "Step = 80 Cost = 0.00026258164377325656\n",
      "Step = 90 Cost = 0.0002042679910707218\n",
      "Step = 100 Cost = 0.00016341701174667252\n",
      "Step = 110 Cost = 0.00013369494922210682\n",
      "Step = 120 Cost = 0.00011139891946917004\n",
      "Step = 130 Cost = 9.424689275804896e-05\n",
      "Step = 140 Cost = 8.077041264748418e-05\n",
      "Step = 150 Cost = 6.998986159001123e-05\n",
      "Step = 160 Cost = 6.123145406193388e-05\n",
      "Step = 170 Cost = 5.401943791852994e-05\n",
      "Step = 180 Cost = 4.801015090735103e-05\n",
      "Step = 190 Cost = 4.295034091795364e-05\n"
     ]
    }
   ],
   "source": [
    "for i in range (200):\n",
    "    # Over each step the parameters change to give a better cost\n",
    "    params, prev_cost = opt.step_and_cost(cost_fn,params)\n",
    "    if i%10 == 0:\n",
    "         # We print the result after every 10 steps\n",
    "        print(f'Step = {i} Cost = {cost_fn(params)}')"
   ]
  },
  {
   "cell_type": "markdown",
   "id": "feb9dd3f-eb28-4b13-b554-d72650a547af",
   "metadata": {},
   "source": [
    "## Evaluate results"
   ]
  },
  {
   "cell_type": "code",
   "execution_count": 13,
   "id": "206ff2f1-e45b-456c-8df2-3d00c06b6837",
   "metadata": {},
   "outputs": [
    {
     "data": {
      "image/png": "[encoded data removed]",
      "text/plain": [
       "<Figure size 640x480 with 1 Axes>"
      ]
     },
     "metadata": {},
     "output_type": "display_data"
    }
   ],
   "source": [
    "test_predictions = []\n",
    "for x_test in X_test:\n",
    "    prediction = quantum_circuit(x_test,params)\n",
    "    test_predictions.append(prediction)\n",
    "\n",
    "fig = plt.figure()\n",
    "ax1 = fig.add_subplot(111)\n",
    "\n",
    "ax1.scatter(X, Y, s=30, c='b', marker=\"s\", label='Train outputs')\n",
    "ax1.scatter(X_test,Y_test, s=60, c='r', marker=\"o\", label='Test outputs')\n",
    "ax1.scatter(X_test,test_predictions, s=30, c='k', marker=\"x\", label='Test predictions')\n",
    "plt.xlabel(\"Inputs\")\n",
    "plt.ylabel(\"Outputs\")\n",
    "plt.title(\"QML results\")\n",
    "\n",
    "plt.legend(loc='upper right');\n",
    "plt.show()"
   ]
  },
  {
   "cell_type": "code",
   "execution_count": 14,
   "id": "2af0cbd1-b155-427f-a1af-d3ed9d0db302",
   "metadata": {},
   "outputs": [
    {
     "name": "stdout",
     "output_type": "stream",
     "text": [
      "Accuracy: 1.0\n"
     ]
    }
   ],
   "source": [
    "acc_val = accuracy(Y_test, test_predictions)\n",
    "print(f\"Accuracy: {acc_val}\")"
   ]
  },
  {
   "cell_type": "code",
   "execution_count": null,
   "id": "a3195850-c943-43d0-be43-3350f6de09bc",
   "metadata": {},
   "outputs": [],
   "source": []
  },
  {
   "cell_type": "code",
   "execution_count": null,
   "id": "93caee97-db01-4e4a-ab7f-f6c1f1268dc6",
   "metadata": {},
   "outputs": [],
   "source": []
  }
 ],
 "metadata": {
  "kernelspec": {
   "display_name": "Python 3 (ipykernel)",
   "language": "python",
   "name": "python3"
  },
  "language_info": {
   "codemirror_mode": {
    "name": "ipython",
    "version": 3
   },
   "file_extension": ".py",
   "mimetype": "text/x-python",
   "name": "python",
   "nbconvert_exporter": "python",
   "pygments_lexer": "ipython3",
   "version": "3.11.5"
  }
 },
 "nbformat": 4,
 "nbformat_minor": 5
}
